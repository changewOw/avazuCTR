{
 "cells": [
  {
   "cell_type": "code",
   "execution_count": 1,
   "metadata": {},
   "outputs": [],
   "source": [
    "import pandas as pd\n",
    "import numpy as np\n",
    "import scipy as sc\n",
    "import scipy.sparse as sp\n",
    "import time\n",
    "import xgboost as xgb\n",
    "from sklearn.externals.joblib import dump, load, Parallel, delayed"
   ]
  },
  {
   "cell_type": "code",
   "execution_count": 2,
   "metadata": {},
   "outputs": [],
   "source": [
    "import utils_my\n",
    "from utils_my import *"
   ]
  },
  {
   "cell_type": "code",
   "execution_count": 3,
   "metadata": {},
   "outputs": [
    {
     "name": "stdout",
     "output_type": "stream",
     "text": [
      "add some basic features\n"
     ]
    },
    {
     "data": {
      "text/html": [
       "<div>\n",
       "<style scoped>\n",
       "    .dataframe tbody tr th:only-of-type {\n",
       "        vertical-align: middle;\n",
       "    }\n",
       "\n",
       "    .dataframe tbody tr th {\n",
       "        vertical-align: top;\n",
       "    }\n",
       "\n",
       "    .dataframe thead th {\n",
       "        text-align: right;\n",
       "    }\n",
       "</style>\n",
       "<table border=\"1\" class=\"dataframe\">\n",
       "  <thead>\n",
       "    <tr style=\"text-align: right;\">\n",
       "      <th></th>\n",
       "      <th>id</th>\n",
       "      <th>click</th>\n",
       "      <th>hour</th>\n",
       "      <th>C1</th>\n",
       "      <th>banner_pos</th>\n",
       "      <th>site_id</th>\n",
       "      <th>site_domain</th>\n",
       "      <th>site_category</th>\n",
       "      <th>app_id</th>\n",
       "      <th>app_domain</th>\n",
       "      <th>...</th>\n",
       "      <th>C18</th>\n",
       "      <th>C19</th>\n",
       "      <th>C20</th>\n",
       "      <th>C21</th>\n",
       "      <th>day</th>\n",
       "      <th>hour1</th>\n",
       "      <th>day_hour</th>\n",
       "      <th>day_hour_prev</th>\n",
       "      <th>day_hour_next</th>\n",
       "      <th>app_or_web</th>\n",
       "    </tr>\n",
       "  </thead>\n",
       "  <tbody>\n",
       "    <tr>\n",
       "      <th>0</th>\n",
       "      <td>1.000068e+19</td>\n",
       "      <td>0</td>\n",
       "      <td>14102100</td>\n",
       "      <td>1005</td>\n",
       "      <td>1</td>\n",
       "      <td>fe8cc448</td>\n",
       "      <td>9166c161</td>\n",
       "      <td>0569f928</td>\n",
       "      <td>ecad2386</td>\n",
       "      <td>7801e8d9</td>\n",
       "      <td>...</td>\n",
       "      <td>0</td>\n",
       "      <td>35</td>\n",
       "      <td>-1</td>\n",
       "      <td>157</td>\n",
       "      <td>21.0</td>\n",
       "      <td>0</td>\n",
       "      <td>0.0</td>\n",
       "      <td>-1.0</td>\n",
       "      <td>1.0</td>\n",
       "      <td>0</td>\n",
       "    </tr>\n",
       "    <tr>\n",
       "      <th>1</th>\n",
       "      <td>1.000354e+19</td>\n",
       "      <td>0</td>\n",
       "      <td>14102100</td>\n",
       "      <td>1005</td>\n",
       "      <td>0</td>\n",
       "      <td>1fbe01fe</td>\n",
       "      <td>f3845767</td>\n",
       "      <td>28905ebd</td>\n",
       "      <td>ecad2386</td>\n",
       "      <td>7801e8d9</td>\n",
       "      <td>...</td>\n",
       "      <td>0</td>\n",
       "      <td>35</td>\n",
       "      <td>100084</td>\n",
       "      <td>79</td>\n",
       "      <td>21.0</td>\n",
       "      <td>0</td>\n",
       "      <td>0.0</td>\n",
       "      <td>-1.0</td>\n",
       "      <td>1.0</td>\n",
       "      <td>0</td>\n",
       "    </tr>\n",
       "    <tr>\n",
       "      <th>2</th>\n",
       "      <td>1.000467e+19</td>\n",
       "      <td>0</td>\n",
       "      <td>14102100</td>\n",
       "      <td>1005</td>\n",
       "      <td>0</td>\n",
       "      <td>543a539e</td>\n",
       "      <td>c7ca3108</td>\n",
       "      <td>3e814130</td>\n",
       "      <td>ecad2386</td>\n",
       "      <td>7801e8d9</td>\n",
       "      <td>...</td>\n",
       "      <td>0</td>\n",
       "      <td>39</td>\n",
       "      <td>-1</td>\n",
       "      <td>157</td>\n",
       "      <td>21.0</td>\n",
       "      <td>0</td>\n",
       "      <td>0.0</td>\n",
       "      <td>-1.0</td>\n",
       "      <td>1.0</td>\n",
       "      <td>0</td>\n",
       "    </tr>\n",
       "    <tr>\n",
       "      <th>3</th>\n",
       "      <td>1.000561e+19</td>\n",
       "      <td>1</td>\n",
       "      <td>14102100</td>\n",
       "      <td>1005</td>\n",
       "      <td>0</td>\n",
       "      <td>85f751fd</td>\n",
       "      <td>c4e18dd6</td>\n",
       "      <td>50e219e0</td>\n",
       "      <td>54c5d545</td>\n",
       "      <td>2347f47a</td>\n",
       "      <td>...</td>\n",
       "      <td>3</td>\n",
       "      <td>297</td>\n",
       "      <td>100111</td>\n",
       "      <td>61</td>\n",
       "      <td>21.0</td>\n",
       "      <td>0</td>\n",
       "      <td>0.0</td>\n",
       "      <td>-1.0</td>\n",
       "      <td>1.0</td>\n",
       "      <td>0</td>\n",
       "    </tr>\n",
       "    <tr>\n",
       "      <th>4</th>\n",
       "      <td>1.000696e+19</td>\n",
       "      <td>1</td>\n",
       "      <td>14102100</td>\n",
       "      <td>1005</td>\n",
       "      <td>0</td>\n",
       "      <td>85f751fd</td>\n",
       "      <td>c4e18dd6</td>\n",
       "      <td>50e219e0</td>\n",
       "      <td>0acbeaa3</td>\n",
       "      <td>45a51db4</td>\n",
       "      <td>...</td>\n",
       "      <td>0</td>\n",
       "      <td>35</td>\n",
       "      <td>100034</td>\n",
       "      <td>157</td>\n",
       "      <td>21.0</td>\n",
       "      <td>0</td>\n",
       "      <td>0.0</td>\n",
       "      <td>-1.0</td>\n",
       "      <td>1.0</td>\n",
       "      <td>0</td>\n",
       "    </tr>\n",
       "  </tbody>\n",
       "</table>\n",
       "<p>5 rows × 30 columns</p>\n",
       "</div>"
      ],
      "text/plain": [
       "             id  click      hour    C1  banner_pos   site_id site_domain  \\\n",
       "0  1.000068e+19      0  14102100  1005           1  fe8cc448    9166c161   \n",
       "1  1.000354e+19      0  14102100  1005           0  1fbe01fe    f3845767   \n",
       "2  1.000467e+19      0  14102100  1005           0  543a539e    c7ca3108   \n",
       "3  1.000561e+19      1  14102100  1005           0  85f751fd    c4e18dd6   \n",
       "4  1.000696e+19      1  14102100  1005           0  85f751fd    c4e18dd6   \n",
       "\n",
       "  site_category    app_id app_domain     ...     C18  C19     C20  C21   day  \\\n",
       "0      0569f928  ecad2386   7801e8d9     ...       0   35      -1  157  21.0   \n",
       "1      28905ebd  ecad2386   7801e8d9     ...       0   35  100084   79  21.0   \n",
       "2      3e814130  ecad2386   7801e8d9     ...       0   39      -1  157  21.0   \n",
       "3      50e219e0  54c5d545   2347f47a     ...       3  297  100111   61  21.0   \n",
       "4      50e219e0  0acbeaa3   45a51db4     ...       0   35  100034  157  21.0   \n",
       "\n",
       "   hour1  day_hour  day_hour_prev  day_hour_next  app_or_web  \n",
       "0      0       0.0           -1.0            1.0           0  \n",
       "1      0       0.0           -1.0            1.0           0  \n",
       "2      0       0.0           -1.0            1.0           0  \n",
       "3      0       0.0           -1.0            1.0           0  \n",
       "4      0       0.0           -1.0            1.0           0  \n",
       "\n",
       "[5 rows x 30 columns]"
      ]
     },
     "execution_count": 3,
     "metadata": {},
     "output_type": "execute_result"
    }
   ],
   "source": [
    "t0org0=pd.read_csv(\"tiny_data/400W_tiny.csv\")\n",
    "t0org0.drop(['Unnamed: 0'],axis=1,inplace=True)\n",
    "print(\"add some basic features\")\n",
    "t0org0['day']=np.round(t0org0.hour%10000 /100)\n",
    "t0org0['hour1'] = np.round(t0org0.hour % 100)#hour时\n",
    "t0org0['day_hour'] = (t0org0.day.values - 21) * 24 + t0org0.hour1.values#距离21号0时的时间数\n",
    "t0org0['day_hour_prev'] = t0org0['day_hour'] - 1#前一小时\n",
    "t0org0['day_hour_next'] = t0org0['day_hour'] + 1#后一小时\n",
    "t0org0['app_or_web'] = 0\n",
    "#for i in range(21,32):\n",
    "    #print(t0org0.ix[t0org0.day.values==i].shape[0])\n",
    "t0org0.head()"
   ]
  },
  {
   "cell_type": "code",
   "execution_count": 4,
   "metadata": {},
   "outputs": [
    {
     "name": "stderr",
     "output_type": "stream",
     "text": [
      "C:\\Users\\shachuanyu\\Anaconda3\\lib\\site-packages\\ipykernel_launcher.py:1: DeprecationWarning: \n",
      ".ix is deprecated. Please use\n",
      ".loc for label based indexing or\n",
      ".iloc for positional indexing\n",
      "\n",
      "See the documentation here:\n",
      "http://pandas.pydata.org/pandas-docs/stable/indexing.html#ix-indexer-is-deprecated\n",
      "  \"\"\"Entry point for launching an IPython kernel.\n"
     ]
    }
   ],
   "source": [
    "t0org0.ix[t0org0.app_id.values=='ecad2386', 'app_or_web'] = 1\n",
    "t0 = t0org0"
   ]
  },
  {
   "cell_type": "code",
   "execution_count": 5,
   "metadata": {},
   "outputs": [
    {
     "name": "stdout",
     "output_type": "stream",
     "text": [
      "to count prev/current/next hour by ip ...\n",
      "aggregate by src key\n",
      "aggregate by src key\n",
      "aggregate by src key\n",
      "to create day diffs\n",
      "aggreate by src key\n",
      "map to tgt key\n",
      "fill in na\n",
      "calc exp\n",
      "add count\n"
     ]
    },
    {
     "name": "stderr",
     "output_type": "stream",
     "text": [
      "C:\\Users\\shachuanyu\\Anaconda3\\lib\\site-packages\\ipykernel_launcher.py:19: DeprecationWarning: \n",
      ".ix is deprecated. Please use\n",
      ".loc for label based indexing or\n",
      ".iloc for positional indexing\n",
      "\n",
      "See the documentation here:\n",
      "http://pandas.pydata.org/pandas-docs/stable/indexing.html#ix-indexer-is-deprecated\n",
      "C:\\Users\\shachuanyu\\Anaconda3\\lib\\site-packages\\ipykernel_launcher.py:35: DeprecationWarning: \n",
      ".ix is deprecated. Please use\n",
      ".loc for label based indexing or\n",
      ".iloc for positional indexing\n",
      "\n",
      "See the documentation here:\n",
      "http://pandas.pydata.org/pandas-docs/stable/indexing.html#ix-indexer-is-deprecated\n",
      "C:\\Users\\shachuanyu\\Anaconda3\\lib\\site-packages\\ipykernel_launcher.py:37: DeprecationWarning: \n",
      ".ix is deprecated. Please use\n",
      ".loc for label based indexing or\n",
      ".iloc for positional indexing\n",
      "\n",
      "See the documentation here:\n",
      "http://pandas.pydata.org/pandas-docs/stable/indexing.html#ix-indexer-is-deprecated\n"
     ]
    }
   ],
   "source": [
    "t0['app_site_id'] = np.add(t0.app_id.values, t0.site_id.values)\n",
    "\n",
    "print(\"to count prev/current/next hour by ip ...\")\n",
    "#count某用户上一小时的浏览数\n",
    "cntDualKey(t0, 'device_ip', None, 'day_hour', 'day_hour_prev', fill_na=0)\n",
    "#count某用户这一小时的浏览数\n",
    "cntDualKey(t0, 'device_ip', None, 'day_hour', 'day_hour', fill_na=0)\n",
    "#count某用户下一小时的浏览数\n",
    "cntDualKey(t0, 'device_ip', None, 'day_hour', 'day_hour_next', fill_na=0)\n",
    "\n",
    "#创建day之间的差异\n",
    "print(\"to create day diffs\")\n",
    "#创建每条数据上一天的索引\n",
    "t0['pday']=t0.day-1\n",
    "calcDualKey(t0, 'device_ip', None, 'day', 'pday', 'click', 10, None, True, True)\n",
    "t0['cnt_diff_device_ip_day_pday'] = t0.cnt_device_ip_day.values - t0.cnt_device_ip_pday.values\n",
    "#hour & web \n",
    "t0['hour1_web'] = t0.hour1.values\n",
    "t0.ix[t0.app_or_web.values==0,'hour1_web'] = -1\n",
    "#通过deviceip来计数appid个数\n",
    "t0['app_cnt_by_dev_ip'] = my_grp_cnt(t0.device_ip.values.astype('str'), t0.app_id.values.astype('str'))\n",
    "#rank根据id来排序表达出现次数\n",
    "t0['rank_dev_ip'] = my_grp_idx(t0.device_ip.values.astype('str'), t0.id.values.astype('str'))\n",
    "t0['rank_day_dev_ip'] = my_grp_idx(np.add(t0.device_ip.values, t0.day.astype('str').values).astype('str'), t0.id.values.astype('str'))\n",
    "t0['rank_app_dev_ip'] = my_grp_idx(np.add(t0.device_ip.values, t0.app_id.values).astype('str'), t0.id.values.astype('str'))\n",
    "#获取devip和devid的计数值\n",
    "t0['cnt_dev_ip'] = get_agg(t0.device_ip.values, t0.id, np.size)\n",
    "t0['cnt_dev_id'] = get_agg(t0.device_id.values, t0.id, np.size)\n",
    "#不理解这两个特征的存在\n",
    "#将计数特征的数字进行控制使得上限为300\n",
    "t0['dev_id_cnt2'] = np.minimum(t0.cnt_dev_id.astype('int32').values, 300)\n",
    "t0['dev_ip_cnt2'] = np.minimum(t0.cnt_dev_ip.astype('int32').values, 300)\n",
    "#创建了id和ip两个特征并把频率为1的数据全部置为同一值_only1\n",
    "t0['dev_id2plus'] = t0.device_id.values\n",
    "t0.ix[t0.cnt_dev_id.values == 1, 'dev_id2plus'] = '___only1'\n",
    "t0['dev_ip2plus'] = t0.device_ip.values\n",
    "t0.ix[t0.cnt_dev_ip.values == 1, 'dev_ip2plus'] = '___only1'\n",
    "#创建特征：这一小时和上一小时以及下一小时的浏览数差，暂时没理解为什么乘以apporweb\n",
    "t0['diff_cnt_dev_ip_hour_phour_aw2_prev'] = (t0.cnt_device_ip_day_hour.values - t0.cnt_device_ip_day_hour_prev.values) * ((t0.app_or_web * 2 - 1)) \n",
    "t0['diff_cnt_dev_ip_hour_phour_aw2_next'] = (t0.cnt_device_ip_day_hour.values - t0.cnt_device_ip_day_hour_next.values) * ((t0.app_or_web * 2 - 1)) \n"
   ]
  },
  {
   "cell_type": "markdown",
   "metadata": {},
   "source": [
    "# Save t0"
   ]
  },
  {
   "cell_type": "code",
   "execution_count": 6,
   "metadata": {},
   "outputs": [
    {
     "name": "stdout",
     "output_type": "stream",
     "text": [
      "to save t0 ....\n"
     ]
    },
    {
     "data": {
      "text/plain": [
       "['tiny_data/t0.joblib_dat']"
      ]
     },
     "execution_count": 6,
     "metadata": {},
     "output_type": "execute_result"
    }
   ],
   "source": [
    "print(\"to save t0 ....\")\n",
    "dump(t0,\"tiny_data/t0.joblib_dat\")\n"
   ]
  },
  {
   "cell_type": "code",
   "execution_count": 7,
   "metadata": {},
   "outputs": [
    {
     "name": "stdout",
     "output_type": "stream",
     "text": [
      "to generate t0tv_mx....\n",
      "to save t0tv_mx.....\n"
     ]
    },
    {
     "data": {
      "text/plain": [
       "['tiny_data/t0tv_mx.joblib_dat']"
      ]
     },
     "execution_count": 7,
     "metadata": {},
     "output_type": "execute_result"
    }
   ],
   "source": [
    "print(\"to generate t0tv_mx....\")\n",
    "\n",
    "app_or_web = None\n",
    "_start_day = 22\n",
    "list_param = ['C1', 'C14', 'C15', 'C16', 'C17', 'C18', 'C19', 'C20', 'C21', 'banner_pos', 'device_type', 'device_conn_type']\n",
    "feature_list_dict = {}\n",
    "\n",
    "feature_list_name = 'tvexp3'\n",
    "feature_list_dict[feature_list_name] = list_param + \\\n",
    "                            ['cnt_diff_device_ip_day_pday','hour1_web','cnt_dev_ip','cnt_dev_id',\n",
    "                            'app_cnt_by_dev_ip', 'app_or_web','cnt_device_ip_day_hour',\n",
    "                            'diff_cnt_dev_ip_hour_phour_aw2_prev',\n",
    "                            'diff_cnt_dev_ip_hour_phour_aw2_next',\n",
    "                            'rank_dev_ip','rank_day_dev_ip','rank_app_dev_ip',]\n",
    "    \n",
    "\n",
    "for vn in feature_list_dict[feature_list_name]:\n",
    "     if vn not in t0.columns:\n",
    "         print(\"=\"*60+vn)\n",
    "\n",
    "t0tv_mx = t0[feature_list_dict[feature_list_name]].values\n",
    "\n",
    "print(\"to save t0tv_mx.....\")\n",
    "\n",
    "t0tv_mx_save={}\n",
    "t0tv_mx_save['t0tv_mx'] = t0tv_mx\n",
    "t0tv_mx_save['click'] = t0.click.values\n",
    "t0tv_mx_save['day'] = t0.day.values\n",
    "t0tv_mx_save['site_id'] = t0.site_id.values\n",
    "dump(t0tv_mx_save,\"tiny_data/t0tv_mx.joblib_dat\")"
   ]
  },
  {
   "cell_type": "code",
   "execution_count": null,
   "metadata": {},
   "outputs": [],
   "source": []
  }
 ],
 "metadata": {
  "kernelspec": {
   "display_name": "Python 3",
   "language": "python",
   "name": "python3"
  },
  "language_info": {
   "codemirror_mode": {
    "name": "ipython",
    "version": 3
   },
   "file_extension": ".py",
   "mimetype": "text/x-python",
   "name": "python",
   "nbconvert_exporter": "python",
   "pygments_lexer": "ipython3",
   "version": "3.6.5"
  }
 },
 "nbformat": 4,
 "nbformat_minor": 2
}
