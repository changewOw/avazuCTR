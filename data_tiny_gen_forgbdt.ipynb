{
 "cells": [
  {
   "cell_type": "code",
   "execution_count": 1,
   "metadata": {},
   "outputs": [],
   "source": [
    "import pandas as pd\n",
    "import numpy as np\n",
    "import scipy as sc\n",
    "import scipy.sparse as sp\n",
    "import time\n",
    "import utils_my\n",
    "from utils_my import *\n",
    "import sys\n",
    "import os\n",
    "from sklearn.utils import check_random_state\n",
    "from sklearn.externals.joblib import dump, load"
   ]
  },
  {
   "cell_type": "code",
   "execution_count": 2,
   "metadata": {},
   "outputs": [],
   "source": [
    "t0 = load(\"tiny_data/t0.joblib_dat\")"
   ]
  },
  {
   "cell_type": "code",
   "execution_count": 7,
   "metadata": {
    "collapsed": true
   },
   "outputs": [
    {
     "data": {
      "text/plain": [
       "['app_or_web',\n",
       " 'banner_pos',\n",
       " 'C1',\n",
       " 'C15',\n",
       " 'C16',\n",
       " 'C17',\n",
       " 'C18',\n",
       " 'C19',\n",
       " 'C20',\n",
       " 'C21',\n",
       " 'hour1',\n",
       " '_A_app_or_web',\n",
       " '_A_banner_pos',\n",
       " '_A_C1',\n",
       " '_A_C15',\n",
       " '_A_C16',\n",
       " '_A_C17',\n",
       " '_A_C18',\n",
       " '_A_C19',\n",
       " '_A_C20',\n",
       " '_A_C21',\n",
       " 'device_model',\n",
       " 'device_type',\n",
       " 'device_conn_type',\n",
       " 'app_site_id',\n",
       " 'as_domain',\n",
       " 'as_category',\n",
       " 'cnt_device_ip_day_hour',\n",
       " 'cnt_device_ip_day_hour_prev',\n",
       " 'cnt_device_ip_day_hour_next',\n",
       " 'cnt_device_ip_pday',\n",
       " 'cnt_diff_device_ip_day_pday',\n",
       " 'as_model',\n",
       " 'cnt_device_ip_day',\n",
       " 'dev_id_cnt2',\n",
       " 'dev_ip_cnt2',\n",
       " 'C14',\n",
       " '_A_C14',\n",
       " 'dev_ip2plus',\n",
       " 'dev_id2plus']"
      ]
     },
     "execution_count": 7,
     "metadata": {},
     "output_type": "execute_result"
    }
   ],
   "source": [
    "vns1"
   ]
  },
  {
   "cell_type": "code",
   "execution_count": 3,
   "metadata": {
    "collapsed": true
   },
   "outputs": [
    {
     "data": {
      "text/plain": [
       "Index(['id', 'click', 'hour', 'C1', 'banner_pos', 'site_id', 'site_domain',\n",
       "       'site_category', 'app_id', 'app_domain', 'app_category', 'device_id',\n",
       "       'device_ip', 'device_model', 'device_type', 'device_conn_type', 'C14',\n",
       "       'C15', 'C16', 'C17', 'C18', 'C19', 'C20', 'C21', 'day', 'hour1',\n",
       "       'day_hour', 'day_hour_prev', 'day_hour_next', 'app_or_web',\n",
       "       'app_site_id', 'cnt_device_ip_day_hour_prev', 'cnt_device_ip_day_hour',\n",
       "       'cnt_device_ip_day_hour_next', 'pday', 'exp_device_ip_day_pday',\n",
       "       'cnt_device_ip_day', 'cnt_device_ip_pday',\n",
       "       'cnt_diff_device_ip_day_pday', 'hour1_web', 'app_cnt_by_dev_ip',\n",
       "       'rank_dev_ip', 'rank_day_dev_ip', 'rank_app_dev_ip', 'cnt_dev_ip',\n",
       "       'cnt_dev_id', 'dev_id_cnt2', 'dev_ip_cnt2', 'dev_id2plus',\n",
       "       'dev_ip2plus', 'diff_cnt_dev_ip_hour_phour_aw2_prev',\n",
       "       'diff_cnt_dev_ip_hour_phour_aw2_next'],\n",
       "      dtype='object')"
      ]
     },
     "execution_count": 3,
     "metadata": {},
     "output_type": "execute_result"
    }
   ],
   "source": [
    "t0.columns"
   ]
  },
  {
   "cell_type": "code",
   "execution_count": 6,
   "metadata": {},
   "outputs": [
    {
     "name": "stdout",
     "output_type": "stream",
     "text": [
      "_A_app_or_web\n",
      "_A_banner_pos\n",
      "_A_C1\n",
      "_A_C15\n",
      "_A_C16\n",
      "_A_C17\n",
      "_A_C18\n",
      "_A_C19\n",
      "_A_C20\n",
      "_A_C21\n",
      "_A_C14\n"
     ]
    }
   ],
   "source": [
    "vns0 = ['app_or_web', 'banner_pos', 'C1', 'C15', 'C16', 'C17', 'C18', 'C19', 'C20', 'C21']\n",
    "for vn in vns0 + ['C14']:\n",
    "    vn2 = '_A_' + vn\n",
    "    print(vn2)\n",
    "    t0[vn2] = np.add(t0['app_site_id'].values,t0[vn].astype('str').values)\n",
    "    t0[vn2] = t0[vn2].astype('category')\n",
    "    \n",
    "t3 = t0\n",
    "vns1 = vns0 + ['hour1'] + ['_A_' + vn for vn in vns0] +\\\n",
    "        ['device_model', 'device_type', 'device_conn_type', 'app_site_id', 'as_domain', 'as_category',\n",
    "        'cnt_device_ip_day_hour', 'cnt_device_ip_day_hour_prev', 'cnt_device_ip_day_hour_next', 'cnt_device_ip_pday',\n",
    "        'cnt_diff_device_ip_day_pday','as_model','cnt_device_ip_day'] + \\\n",
    "        ['dev_id_cnt2', 'dev_ip_cnt2','C14','_A_C14','dev_ip2plus', 'dev_id2plus']"
   ]
  },
  {
   "cell_type": "code",
   "execution_count": 8,
   "metadata": {
    "scrolled": false
   },
   "outputs": [
    {
     "name": "stderr",
     "output_type": "stream",
     "text": [
      "C:\\Users\\shachuanyu\\Anaconda3\\lib\\site-packages\\ipykernel_launcher.py:1: DeprecationWarning: \n",
      ".ix is deprecated. Please use\n",
      ".loc for label based indexing or\n",
      ".iloc for positional indexing\n",
      "\n",
      "See the documentation here:\n",
      "http://pandas.pydata.org/pandas-docs/stable/indexing.html#ix-indexer-is-deprecated\n",
      "  \"\"\"Entry point for launching an IPython kernel.\n"
     ]
    }
   ],
   "source": [
    "t3a = t3.ix[:,['click']].copy()\n",
    "idx_base = 3000\n"
   ]
  },
  {
   "cell_type": "code",
   "execution_count": 18,
   "metadata": {},
   "outputs": [
    {
     "data": {
      "text/plain": [
       "array([ 4,  1, 11, ...,  1,  1,  1], dtype=int64)"
      ]
     },
     "execution_count": 18,
     "metadata": {},
     "output_type": "execute_result"
    }
   ],
   "source": [
    "t0['cnt_device_ip_day_hour'].values"
   ]
  },
  {
   "cell_type": "code",
   "execution_count": 19,
   "metadata": {},
   "outputs": [
    {
     "name": "stderr",
     "output_type": "stream",
     "text": [
      "C:\\Users\\shachuanyu\\Anaconda3\\lib\\site-packages\\ipykernel_launcher.py:4: DeprecationWarning: \n",
      ".ix is deprecated. Please use\n",
      ".loc for label based indexing or\n",
      ".iloc for positional indexing\n",
      "\n",
      "See the documentation here:\n",
      "http://pandas.pydata.org/pandas-docs/stable/indexing.html#ix-indexer-is-deprecated\n",
      "  after removing the cwd from sys.path.\n"
     ]
    },
    {
     "name": "stdout",
     "output_type": "stream",
     "text": [
      "4046334 4050240\n",
      "4048443 4050240\n",
      "4048404 4050240\n",
      "3806941 4050240\n",
      "3882547 4050240\n",
      "3845574 4050240\n"
     ]
    }
   ],
   "source": [
    "for i in ['cnt_device_ip_day_hour', 'cnt_device_ip_day_hour_prev', 'cnt_device_ip_day_hour_next', 'cnt_device_ip_pday',\n",
    "    'cnt_diff_device_ip_day_pday', 'cnt_device_ip_day']:\n",
    "    filter1 = np.logical_and(t0[i].values>=-100,t0[i].values<=200)\n",
    "    print(t0.ix[filter1,'click'].shape[0],t0.shape[0])"
   ]
  },
  {
   "cell_type": "code",
   "execution_count": 16,
   "metadata": {
    "collapsed": true
   },
   "outputs": [
    {
     "name": "stdout",
     "output_type": "stream",
     "text": [
      "app_or_web 3000 3000 3001 2\n",
      "banner_pos 3002 3002 3008 7\n",
      "C1 3009 3009 3015 7\n",
      "C15 3016 3016 3023 8\n",
      "C16 3024 3024 3032 9\n",
      "C17 3033 3033 3457 425\n",
      "C18 3458 3458 3461 4\n",
      "C19 3462 3462 3527 66\n",
      "C20 3528 3528 3694 167\n",
      "C21 3695 3695 3754 60\n",
      "hour1 3755 3755 3778 24\n",
      "_A_app_or_web 3779 3779 12102 8324\n",
      "_A_banner_pos 12103 12103 20592 8490\n",
      "_A_C1 20593 20593 28916 8324\n",
      "_A_C15 28917 28917 39292 10376\n",
      "_A_C16 39293 39293 48804 9512\n",
      "_A_C17 48805 48805 106659 57855\n",
      "_A_C18 106660 106660 123022 16363\n",
      "_A_C19 123023 123023 156816 33794\n",
      "_A_C20 156817 156817 203390 46574\n",
      "_A_C21 203391 203391 238247 34857\n",
      "device_model 238248 238248 244652 6405\n",
      "device_type 244653 244653 244657 5\n",
      "device_conn_type 244658 244658 244661 4\n",
      "app_site_id 244662 244662 252985 8324\n",
      "as_domain 252986 252986 257525 4540\n",
      "as_category 257526 257526 257576 51\n",
      "cnt_device_ip_day_hour 257577 257577 257752 176\n",
      "cnt_device_ip_day_hour_prev 257753 257753 257929 177\n",
      "cnt_device_ip_day_hour_next 257930 257930 258106 177\n",
      "cnt_device_ip_pday 258107 258107 258301 195\n",
      "cnt_diff_device_ip_day_pday 258302 258302 258544 243\n",
      "as_model 258545 258545 502907 244363\n",
      "cnt_device_ip_day 502908 502908 503100 193\n",
      "dev_id_cnt2 503101 503101 503196 96\n",
      "dev_ip_cnt2 503197 503197 503473 277\n",
      "C14 503474 503474 505904 2431\n",
      "_A_C14 505905 505905 621636 115732\n",
      "dev_ip2plus 621637 621637 1069420 447784\n",
      "dev_id2plus 1069421 1069421 1160465 91045\n"
     ]
    }
   ],
   "source": [
    "for vn in vns1:\n",
    "    if vn in ['cnt_device_ip_day_hour', 'cnt_device_ip_day_hour_prev', 'cnt_device_ip_day_hour_next', 'cnt_device_ip_pday',\n",
    "    'cnt_diff_device_ip_day_pday', 'cnt_device_ip_day']:\n",
    "        #这里有两种操作\n",
    "        _cat = pd.Series(np.maximum(-100, np.minimum(200, t3[vn].values))).astype('category').values.codes\n",
    "        #_cat = pd.Series(t3[vn].values).astype('category').values.codes\n",
    "    elif vn in ['as_domain']:\n",
    "        _cat = pd.Series(np.add(t3['app_domain'].values,t3['site_domain'].values)).astype('category').values.codes\n",
    "    elif vn in ['as_category']:\n",
    "        _cat = pd.Series(np.add(t3['app_category'].values,t3['site_category'].values)).astype('category').values.codes\n",
    "    elif vn in ['as_model']:\n",
    "        _cat = pd.Series(np.add(t3['app_site_id'].values,t3['device_model'].values)).astype('category').values.codes\n",
    "    else:\n",
    "        _cat = t3[vn].astype('category').values.codes\n",
    "    _cat = np.asarray(_cat, dtype='int32')\n",
    "    _cat1 = _cat + idx_base\n",
    "    t3a[vn] = _cat1\n",
    "    print(vn, idx_base, _cat1.min(), _cat1.max(), np.unique(_cat).size)\n",
    "    #idx =idx +4500+1\n",
    "    idx_base += _cat.max() + 1\n"
   ]
  },
  {
   "cell_type": "code",
   "execution_count": 20,
   "metadata": {},
   "outputs": [
    {
     "data": {
      "text/plain": [
       "1160466"
      ]
     },
     "execution_count": 20,
     "metadata": {},
     "output_type": "execute_result"
    }
   ],
   "source": [
    "idx_base"
   ]
  },
  {
   "cell_type": "code",
   "execution_count": 21,
   "metadata": {},
   "outputs": [
    {
     "name": "stdout",
     "output_type": "stream",
     "text": [
      "to save t3a ....\n"
     ]
    },
    {
     "data": {
      "text/plain": [
       "['t3a.joblib_dat']"
      ]
     },
     "execution_count": 21,
     "metadata": {},
     "output_type": "execute_result"
    }
   ],
   "source": [
    "print(\"to save t3a ....\")\n",
    "t3a_save = {}\n",
    "t3a_save['t3a'] = t3a\n",
    "t3a_save['idx_base'] = idx_base\n",
    "dump(t3a_save,\"t3a.joblib_dat\")"
   ]
  },
  {
   "cell_type": "code",
   "execution_count": 24,
   "metadata": {},
   "outputs": [
    {
     "name": "stdout",
     "output_type": "stream",
     "text": [
      "app_or_web 0 1 2\n",
      "banner_pos 0 6 7\n",
      "C1 0 6 7\n",
      "C15 0 7 8\n",
      "C16 0 8 9\n",
      "C17 0 424 425\n",
      "C18 0 3 4\n",
      "C19 0 65 66\n",
      "C20 0 166 167\n",
      "C21 0 59 60\n",
      "hour1 0 23 24\n",
      "_A_app_or_web 0 8323 8324\n",
      "_A_banner_pos 0 8489 8490\n",
      "_A_C1 0 8323 8324\n",
      "_A_C15 0 10375 10376\n",
      "_A_C16 0 9511 9512\n",
      "_A_C17 0 57854 57855\n",
      "_A_C18 0 16362 16363\n",
      "_A_C19 0 33793 33794\n",
      "_A_C20 0 46573 46574\n",
      "_A_C21 0 34856 34857\n",
      "device_model 0 6404 6405\n",
      "device_type 0 4 5\n",
      "device_conn_type 0 3 4\n",
      "app_site_id 0 8323 8324\n",
      "as_domain 0 4539 4540\n",
      "as_category 0 50 51\n",
      "cnt_device_ip_day_hour 0 175 176\n",
      "cnt_device_ip_day_hour_prev 0 176 177\n",
      "cnt_device_ip_day_hour_next 0 176 177\n",
      "cnt_device_ip_pday 0 194 195\n",
      "cnt_diff_device_ip_day_pday 0 242 243\n",
      "as_model 0 244362 244363\n",
      "cnt_device_ip_day 0 192 193\n",
      "dev_id_cnt2 0 95 96\n",
      "dev_ip_cnt2 0 276 277\n",
      "C14 0 2430 2431\n",
      "_A_C14 0 115731 115732\n",
      "dev_ip2plus 0 447783 447784\n",
      "dev_id2plus 0 91044 91045\n"
     ]
    }
   ],
   "source": [
    "for vn in vns1:\n",
    "    if vn in ['cnt_device_ip_day_hour', 'cnt_device_ip_day_hour_prev', 'cnt_device_ip_day_hour_next', 'cnt_device_ip_pday',\n",
    "    'cnt_diff_device_ip_day_pday', 'cnt_device_ip_day']:\n",
    "        #这里有两种操作\n",
    "        _cat = pd.Series(np.maximum(-100, np.minimum(200, t3[vn].values))).astype('category').values.codes\n",
    "        #_cat = pd.Series(t3[vn].values).astype('category').values.codes\n",
    "    elif vn in ['as_domain']:\n",
    "        _cat = pd.Series(np.add(t3['app_domain'].values,t3['site_domain'].values)).astype('category').values.codes\n",
    "    elif vn in ['as_category']:\n",
    "        _cat = pd.Series(np.add(t3['app_category'].values,t3['site_category'].values)).astype('category').values.codes\n",
    "    elif vn in ['as_model']:\n",
    "        _cat = pd.Series(np.add(t3['app_site_id'].values,t3['device_model'].values)).astype('category').values.codes\n",
    "    else:\n",
    "        _cat = t3[vn].astype('category').values.codes\n",
    "    _cat = np.asarray(_cat, dtype='int32')\n",
    "    #_cat1 = _cat + idx_base\n",
    "    t3a[vn] = _cat\n",
    "    print(vn, _cat.min(), _cat.max(), np.unique(_cat).size)\n",
    "    #idx_base += _cat.max() + 1"
   ]
  },
  {
   "cell_type": "code",
   "execution_count": null,
   "metadata": {},
   "outputs": [],
   "source": []
  }
 ],
 "metadata": {
  "kernelspec": {
   "display_name": "Python 3",
   "language": "python",
   "name": "python3"
  },
  "language_info": {
   "codemirror_mode": {
    "name": "ipython",
    "version": 3
   },
   "file_extension": ".py",
   "mimetype": "text/x-python",
   "name": "python",
   "nbconvert_exporter": "python",
   "pygments_lexer": "ipython3",
   "version": "3.6.5"
  }
 },
 "nbformat": 4,
 "nbformat_minor": 2
}
